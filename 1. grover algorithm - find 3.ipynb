{
 "cells": [
  {
   "cell_type": "code",
   "execution_count": 41,
   "id": "ed2e5f14",
   "metadata": {},
   "outputs": [],
   "source": [
    "import qiskit\n",
    "from qiskit import QuantumCircuit\n",
    "from qiskit.visualization import plot_histogram\n",
    "\n",
    "import numpy as np"
   ]
  },
  {
   "cell_type": "code",
   "execution_count": 42,
   "id": "03ac00b1",
   "metadata": {},
   "outputs": [],
   "source": [
    "from qiskit import execute, Aer\n",
    "\n",
    "simulator = Aer.get_backend('qasm_simulator')"
   ]
  },
  {
   "cell_type": "code",
   "execution_count": 43,
   "id": "69cead21",
   "metadata": {},
   "outputs": [],
   "source": [
    "import matplotlib.pyplot as plt"
   ]
  },
  {
   "cell_type": "code",
   "execution_count": 44,
   "id": "5570d759",
   "metadata": {},
   "outputs": [],
   "source": [
    "import warnings\n",
    "warnings.filterwarnings('ignore')"
   ]
  },
  {
   "cell_type": "markdown",
   "id": "a729eaeb",
   "metadata": {},
   "source": [
    "## Tool Functions"
   ]
  },
  {
   "cell_type": "code",
   "execution_count": 45,
   "id": "c89e5a93",
   "metadata": {},
   "outputs": [],
   "source": [
    "from qiskit.quantum_info import DensityMatrix, Statevector, Operator\n",
    "\n",
    "def getDensityMatrix(circuit):\n",
    "    return DensityMatrix(circuit).data"
   ]
  },
  {
   "cell_type": "markdown",
   "id": "7b9cc9a5",
   "metadata": {},
   "source": [
    "### - dagger and tensor "
   ]
  },
  {
   "cell_type": "code",
   "execution_count": 46,
   "id": "da15479a",
   "metadata": {},
   "outputs": [],
   "source": [
    "state_0 = np.array([1, 0])\n",
    "state_1 = np.array([0, 1])"
   ]
  },
  {
   "cell_type": "code",
   "execution_count": 47,
   "id": "d1147e90",
   "metadata": {},
   "outputs": [],
   "source": [
    "from functools import reduce\n",
    "\n",
    "Dag = lambda matrix: matrix.conj().T\n",
    "Kron = lambda *matrices: reduce(np.kron, matrices)"
   ]
  },
  {
   "cell_type": "markdown",
   "id": "b145aad9",
   "metadata": {},
   "source": [
    "### - pretty print"
   ]
  },
  {
   "cell_type": "code",
   "execution_count": 48,
   "id": "e668ad39",
   "metadata": {},
   "outputs": [],
   "source": [
    "def pm(matrix):\n",
    "    for row in range(len(matrix)):\n",
    "        for col in range (len(matrix[row])):\n",
    "            print(\"{:.3f}\".format(matrix[row][col]), end = \" \")\n",
    "        print()"
   ]
  },
  {
   "cell_type": "markdown",
   "id": "ec005135",
   "metadata": {},
   "source": [
    "# 1. Find <3> in 2-qubits database"
   ]
  },
  {
   "cell_type": "code",
   "execution_count": 49,
   "id": "6c2e88fb",
   "metadata": {},
   "outputs": [],
   "source": [
    "# https://qiskit.org/textbook/ch-algorithms/grover.html"
   ]
  },
  {
   "cell_type": "markdown",
   "id": "76b17ecd",
   "metadata": {},
   "source": [
    "## 1.1 set up starting state"
   ]
  },
  {
   "cell_type": "code",
   "execution_count": 50,
   "id": "86a0a790",
   "metadata": {},
   "outputs": [],
   "source": [
    "def initCircuit(n):\n",
    "    circuit = QuantumCircuit(n, n)\n",
    "    \n",
    "    for i in range(n):\n",
    "        circuit.h(i)    \n",
    "    circuit.barrier()\n",
    "    \n",
    "    return circuit"
   ]
  },
  {
   "cell_type": "code",
   "execution_count": 51,
   "id": "bcf5192f",
   "metadata": {},
   "outputs": [
    {
     "data": {
      "image/png": "[encoded data removed]",
      "text/plain": [
       "<Figure size 287.294x284.278 with 1 Axes>"
      ]
     },
     "execution_count": 51,
     "metadata": {},
     "output_type": "execute_result"
    }
   ],
   "source": [
    "inputCircuit_2q = initCircuit(2)\n",
    "inputCircuit_2q.draw(output='mpl')"
   ]
  },
  {
   "cell_type": "markdown",
   "id": "bc4aff92",
   "metadata": {},
   "source": [
    "## 1.2 creating Oracle for n=3"
   ]
  },
  {
   "cell_type": "code",
   "execution_count": 52,
   "id": "18472482",
   "metadata": {},
   "outputs": [],
   "source": [
    "def createOracle_3():\n",
    "    circuit = QuantumCircuit(2, 2)\n",
    "\n",
    "    # Oracle for find 3\n",
    "\n",
    "    # U_f \n",
    "    circuit.cz(0, 1)\n",
    "    circuit.barrier()\n",
    "    \n",
    "    return circuit"
   ]
  },
  {
   "cell_type": "code",
   "execution_count": 53,
   "id": "628a6683",
   "metadata": {},
   "outputs": [
    {
     "data": {
      "image/png": "[encoded data removed]",
      "text/plain": [
       "<Figure size 287.294x284.278 with 1 Axes>"
      ]
     },
     "execution_count": 53,
     "metadata": {},
     "output_type": "execute_result"
    }
   ],
   "source": [
    "oracleCircuit_3 = createOracle_3()\n",
    "oracleCircuit_3.draw(output='mpl')"
   ]
  },
  {
   "cell_type": "markdown",
   "id": "8e3d512c",
   "metadata": {},
   "source": [
    "### - test Oralce"
   ]
  },
  {
   "cell_type": "code",
   "execution_count": 54,
   "id": "a8233208",
   "metadata": {},
   "outputs": [
    {
     "name": "stdout",
     "output_type": "stream",
     "text": [
      "1.000+0.000j 0.000+0.000j 0.000+0.000j 0.000+0.000j \n",
      "0.000+0.000j 1.000+0.000j 0.000+0.000j 0.000+0.000j \n",
      "0.000+0.000j 0.000+0.000j 1.000+0.000j 0.000+0.000j \n",
      "0.000+0.000j 0.000+0.000j 0.000+0.000j -1.000+0.000j \n"
     ]
    }
   ],
   "source": [
    "O_3 = Operator(oracleCircuit_3).data\n",
    "pm(O_3)"
   ]
  },
  {
   "cell_type": "code",
   "execution_count": 55,
   "id": "cf2bbb5b",
   "metadata": {},
   "outputs": [],
   "source": [
    "# all possible states\n",
    "state_00 = Kron(state_0, state_0)\n",
    "state_01 = Kron(state_0, state_1)\n",
    "state_10 = Kron(state_1, state_0)\n",
    "state_11 = Kron(state_1, state_1)"
   ]
  },
  {
   "cell_type": "code",
   "execution_count": 56,
   "id": "75db7cd5",
   "metadata": {},
   "outputs": [
    {
     "name": "stdout",
     "output_type": "stream",
     "text": [
      "O|00> [1.+0.j 0.+0.j 0.+0.j 0.+0.j]\n",
      "O|01> [0.+0.j 1.+0.j 0.+0.j 0.+0.j]\n",
      "O|10> [0.+0.j 0.+0.j 1.+0.j 0.+0.j]\n",
      "O|11> [ 0.+0.j  0.+0.j  0.+0.j -1.+0.j]\n"
     ]
    }
   ],
   "source": [
    "print(\"O|00>\", O_3 @ state_00)\n",
    "print(\"O|01>\", O_3 @ state_01)\n",
    "print(\"O|10>\", O_3 @ state_10)\n",
    "print(\"O|11>\", O_3 @ state_11) # flip phase"
   ]
  },
  {
   "cell_type": "markdown",
   "id": "e3d6f8b5",
   "metadata": {},
   "source": [
    "## 1.3 Diffuser"
   ]
  },
  {
   "cell_type": "code",
   "execution_count": 57,
   "id": "200652cd",
   "metadata": {},
   "outputs": [],
   "source": [
    "# H R H, where R = 2|0><0| - I "
   ]
  },
  {
   "cell_type": "markdown",
   "id": "7c8bf213",
   "metadata": {},
   "source": [
    "### 1.3.1 R = 2|0><0| - I  (Conditional phase shift gate)"
   ]
  },
  {
   "cell_type": "code",
   "execution_count": 58,
   "id": "3cc106fd",
   "metadata": {},
   "outputs": [],
   "source": [
    "def createR_2q():\n",
    "    circuit = QuantumCircuit(2, 2)\n",
    "    \n",
    "    circuit.z(0)\n",
    "    circuit.z(1)\n",
    "    circuit.cz(0, 1)\n",
    "    \n",
    "    return circuit"
   ]
  },
  {
   "cell_type": "code",
   "execution_count": 59,
   "id": "1acfcf1a",
   "metadata": {},
   "outputs": [
    {
     "data": {
      "image/png": "[encoded data removed]",
      "text/plain": [
       "<Figure size 287.294x284.278 with 1 Axes>"
      ]
     },
     "execution_count": 59,
     "metadata": {},
     "output_type": "execute_result"
    }
   ],
   "source": [
    "R_2q = createR_2q()\n",
    "R_2q.draw(output='mpl')"
   ]
  },
  {
   "cell_type": "markdown",
   "id": "0ce25a76",
   "metadata": {},
   "source": [
    "### - test R"
   ]
  },
  {
   "cell_type": "code",
   "execution_count": 60,
   "id": "6b07a4f4",
   "metadata": {},
   "outputs": [
    {
     "name": "stdout",
     "output_type": "stream",
     "text": [
      "1.000+0.000j 0.000+0.000j 0.000+0.000j 0.000+0.000j \n",
      "0.000+0.000j -1.000+0.000j 0.000+0.000j 0.000+0.000j \n",
      "0.000+0.000j 0.000+0.000j -1.000+0.000j 0.000+0.000j \n",
      "0.000+0.000j 0.000+0.000j 0.000+0.000j -1.000+0.000j \n"
     ]
    }
   ],
   "source": [
    "R_2q = Operator(R_2q).data\n",
    "pm(R_2q)"
   ]
  },
  {
   "cell_type": "code",
   "execution_count": 61,
   "id": "8fc36148",
   "metadata": {},
   "outputs": [
    {
     "name": "stdout",
     "output_type": "stream",
     "text": [
      "RO|00> [1.+0.j 0.+0.j 0.+0.j 0.+0.j]\n",
      "RO|01> [ 0.+0.j -1.+0.j  0.+0.j  0.+0.j]\n",
      "RO|10> [ 0.+0.j  0.+0.j -1.+0.j  0.+0.j]\n",
      "RO|11> [0.+0.j 0.+0.j 0.+0.j 1.+0.j]\n"
     ]
    }
   ],
   "source": [
    "# flip phase(no work on zero states) => Conditional Phase Shift gate\n",
    "print(\"RO|00>\", R_2q @ O_3 @ state_00) # zero state => would not flip\n",
    "print(\"RO|01>\", R_2q @ O_3 @ state_01)\n",
    "print(\"RO|10>\", R_2q @ O_3 @ state_10)\n",
    "print(\"RO|11>\", R_2q @ O_3 @ state_11)"
   ]
  },
  {
   "cell_type": "markdown",
   "id": "d9f093a0",
   "metadata": {},
   "source": [
    "### 1.3.2 diffuser circuit"
   ]
  },
  {
   "cell_type": "code",
   "execution_count": 62,
   "id": "57b55f38",
   "metadata": {},
   "outputs": [],
   "source": [
    "# H R H"
   ]
  },
  {
   "cell_type": "code",
   "execution_count": 63,
   "id": "71b745da",
   "metadata": {},
   "outputs": [],
   "source": [
    "def createDiffuser_2q():\n",
    "    circuit = QuantumCircuit(2, 2)\n",
    "    \n",
    "    circuit.h(0)\n",
    "    circuit.h(1)\n",
    "    circuit = circuit.compose(createR_2q())\n",
    "    circuit.h(0)\n",
    "    circuit.h(1)\n",
    "    circuit.barrier()\n",
    "    \n",
    "    return circuit"
   ]
  },
  {
   "cell_type": "code",
   "execution_count": 64,
   "id": "e64d2a9d",
   "metadata": {},
   "outputs": [
    {
     "data": {
      "image/png": "[encoded data removed]",
      "text/plain": [
       "<Figure size 538.128x284.278 with 1 Axes>"
      ]
     },
     "execution_count": 64,
     "metadata": {},
     "output_type": "execute_result"
    }
   ],
   "source": [
    "diffuserCircuit_2q = createDiffuser_2q()\n",
    "diffuserCircuit_2q.draw(output='mpl')"
   ]
  },
  {
   "cell_type": "markdown",
   "id": "cfcc5f5a",
   "metadata": {},
   "source": [
    "### - test diffuser"
   ]
  },
  {
   "cell_type": "code",
   "execution_count": 65,
   "id": "0e8b86cc",
   "metadata": {},
   "outputs": [
    {
     "name": "stdout",
     "output_type": "stream",
     "text": [
      "-0.500+0.000j 0.500+0.000j 0.500+0.000j 0.500+0.000j \n",
      "0.500+0.000j -0.500+0.000j 0.500+0.000j 0.500+0.000j \n",
      "0.500+0.000j 0.500+0.000j -0.500+0.000j 0.500+0.000j \n",
      "0.500+0.000j 0.500+0.000j 0.500+0.000j -0.500+0.000j \n"
     ]
    }
   ],
   "source": [
    "diff_2q = Operator(diffuserCircuit_2q).data\n",
    "pm(diff_2q)"
   ]
  },
  {
   "cell_type": "code",
   "execution_count": 66,
   "id": "da40d247",
   "metadata": {},
   "outputs": [
    {
     "name": "stdout",
     "output_type": "stream",
     "text": [
      "DO|DB> [0.+0.j 0.+0.j 0.+0.j 1.+0.j]\n"
     ]
    }
   ],
   "source": [
    "DB = 0.5 * state_00 + 0.5 * state_01 + 0.5 * state_10 + 0.5 * state_11\n",
    "print(\"DO|DB>\", diff_2q @ O_3 @ DB)"
   ]
  },
  {
   "cell_type": "markdown",
   "id": "541afe8d",
   "metadata": {},
   "source": [
    "## 1.4 Grover iteration"
   ]
  },
  {
   "cell_type": "code",
   "execution_count": 67,
   "id": "39232969",
   "metadata": {},
   "outputs": [],
   "source": [
    "def createGroverIteration(oracle, diffuser):\n",
    "    return oracle.compose(diffuser)"
   ]
  },
  {
   "cell_type": "code",
   "execution_count": 68,
   "id": "8762c78b",
   "metadata": {},
   "outputs": [
    {
     "data": {
      "image/png": "[encoded data removed]",
      "text/plain": [
       "<Figure size 705.35x284.278 with 1 Axes>"
      ]
     },
     "execution_count": 68,
     "metadata": {},
     "output_type": "execute_result"
    }
   ],
   "source": [
    "groverIteration_2q = createGroverIteration(createOracle_3(), createDiffuser_2q())\n",
    "groverIteration_2q.draw(output='mpl')"
   ]
  },
  {
   "cell_type": "markdown",
   "id": "4e5a57ea",
   "metadata": {},
   "source": [
    "## 1.5 Measure"
   ]
  },
  {
   "cell_type": "code",
   "execution_count": 69,
   "id": "40e89865",
   "metadata": {},
   "outputs": [],
   "source": [
    "groverIteration_2q = createGroverIteration(createOracle_3(), createDiffuser_2q())"
   ]
  },
  {
   "cell_type": "markdown",
   "id": "7b52fcbf",
   "metadata": {},
   "source": [
    "### 1.5.1 one grover iteration"
   ]
  },
  {
   "cell_type": "code",
   "execution_count": 70,
   "id": "ce937dfc",
   "metadata": {},
   "outputs": [
    {
     "data": {
      "image/png": "[encoded data removed]",
      "text/plain": [
       "<Figure size 872.572x284.278 with 1 Axes>"
      ]
     },
     "execution_count": 70,
     "metadata": {},
     "output_type": "execute_result"
    }
   ],
   "source": [
    "grover_2q_1 = initCircuit(2).compose(groverIteration_2q.copy())\n",
    "grover_2q_1.draw(output='mpl')"
   ]
  },
  {
   "cell_type": "code",
   "execution_count": 71,
   "id": "647e3192",
   "metadata": {},
   "outputs": [
    {
     "data": {
      "text/plain": [
       "<qiskit.circuit.instructionset.InstructionSet at 0x28b4c3882b0>"
      ]
     },
     "execution_count": 71,
     "metadata": {},
     "output_type": "execute_result"
    }
   ],
   "source": [
    "grover_2q_1.measure([0, 1], [0, 1])"
   ]
  },
  {
   "cell_type": "code",
   "execution_count": 72,
   "id": "451de586",
   "metadata": {},
   "outputs": [
    {
     "name": "stdout",
     "output_type": "stream",
     "text": [
      "{'11': 10000}\n"
     ]
    }
   ],
   "source": [
    "job = execute(grover_2q_1, simulator, shots = 10000)\n",
    "results = job.result()\n",
    "counts = results.get_counts(grover_2q_1)\n",
    "print(counts)"
   ]
  },
  {
   "cell_type": "code",
   "execution_count": 73,
   "id": "dda3ec47",
   "metadata": {},
   "outputs": [
    {
     "data": {
      "image/png": "[encoded data removed]",
      "text/plain": [
       "<Figure size 100x500 with 1 Axes>"
      ]
     },
     "execution_count": 73,
     "metadata": {},
     "output_type": "execute_result"
    }
   ],
   "source": [
    "plot_histogram(counts, figsize=(1, 5), color=\"#CC3333\", title=\"one iteration - find 3\")"
   ]
  },
  {
   "cell_type": "markdown",
   "id": "eea827b6",
   "metadata": {},
   "source": [
    "### 1.5.2 two grover iteration"
   ]
  },
  {
   "cell_type": "code",
   "execution_count": 74,
   "id": "3cc7c08c",
   "metadata": {},
   "outputs": [
    {
     "data": {
      "image/png": "[encoded data removed]",
      "text/plain": [
       "<Figure size 1457.85x284.278 with 1 Axes>"
      ]
     },
     "execution_count": 74,
     "metadata": {},
     "output_type": "execute_result"
    }
   ],
   "source": [
    "grover_2q_2 = initCircuit(2).compose(groverIteration_2q.copy()).compose(groverIteration_2q.copy())\n",
    "grover_2q_2.draw(output='mpl')"
   ]
  },
  {
   "cell_type": "code",
   "execution_count": 75,
   "id": "a3322b42",
   "metadata": {},
   "outputs": [
    {
     "data": {
      "text/plain": [
       "<qiskit.circuit.instructionset.InstructionSet at 0x28b4cb1e310>"
      ]
     },
     "execution_count": 75,
     "metadata": {},
     "output_type": "execute_result"
    }
   ],
   "source": [
    "grover_2q_2.measure([0, 1], [0, 1])"
   ]
  },
  {
   "cell_type": "code",
   "execution_count": 76,
   "id": "cd852ea6",
   "metadata": {},
   "outputs": [
    {
     "name": "stdout",
     "output_type": "stream",
     "text": [
      "{'11': 2440, '10': 2540, '01': 2538, '00': 2482}\n"
     ]
    }
   ],
   "source": [
    "job = execute(grover_2q_2, simulator, shots = 10000)\n",
    "results = job.result()\n",
    "counts = results.get_counts(grover_2q_2)\n",
    "print(counts)"
   ]
  },
  {
   "cell_type": "code",
   "execution_count": 77,
   "id": "0020ac5e",
   "metadata": {},
   "outputs": [
    {
     "data": {
      "image/png": "[encoded data removed]",
      "text/plain": [
       "<Figure size 700x500 with 1 Axes>"
      ]
     },
     "execution_count": 77,
     "metadata": {},
     "output_type": "execute_result"
    }
   ],
   "source": [
    "plot_histogram(counts, figsize=(7, 5), color=\"#FF9999\", title=\"two iteration - find 3\")"
   ]
  },
  {
   "cell_type": "code",
   "execution_count": null,
   "id": "224cb6ef",
   "metadata": {},
   "outputs": [],
   "source": []
  }
 ],
 "metadata": {
  "kernelspec": {
   "display_name": "Python 3 (ipykernel)",
   "language": "python",
   "name": "python3"
  },
  "language_info": {
   "codemirror_mode": {
    "name": "ipython",
    "version": 3
   },
   "file_extension": ".py",
   "mimetype": "text/x-python",
   "name": "python",
   "nbconvert_exporter": "python",
   "pygments_lexer": "ipython3",
   "version": "3.9.13"
  }
 },
 "nbformat": 4,
 "nbformat_minor": 5
}
