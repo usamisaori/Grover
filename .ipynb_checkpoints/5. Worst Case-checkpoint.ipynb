{
 "cells": [
  {
   "cell_type": "markdown",
   "id": "9dbe00cf",
   "metadata": {},
   "source": [
    "# 5. Worst Case when t/N = 1/2"
   ]
  },
  {
   "cell_type": "code",
   "execution_count": 1,
   "id": "eb157015",
   "metadata": {},
   "outputs": [],
   "source": [
    "import qiskit\n",
    "from qiskit import QuantumCircuit\n",
    "from qiskit.visualization import plot_histogram\n",
    "\n",
    "import numpy as np"
   ]
  },
  {
   "cell_type": "code",
   "execution_count": 2,
   "id": "a2c9a734",
   "metadata": {},
   "outputs": [],
   "source": [
    "from qiskit import execute, Aer\n",
    "\n",
    "simulator = Aer.get_backend('qasm_simulator')"
   ]
  },
  {
   "cell_type": "code",
   "execution_count": 3,
   "id": "284d2416",
   "metadata": {},
   "outputs": [],
   "source": [
    "import matplotlib.pyplot as plt"
   ]
  },
  {
   "cell_type": "code",
   "execution_count": 4,
   "id": "e4cade26",
   "metadata": {},
   "outputs": [],
   "source": [
    "import warnings\n",
    "warnings.filterwarnings('ignore')"
   ]
  },
  {
   "cell_type": "markdown",
   "id": "dada2d3d",
   "metadata": {},
   "source": [
    "## Tool Functions"
   ]
  },
  {
   "cell_type": "code",
   "execution_count": 5,
   "id": "6eb8f430",
   "metadata": {},
   "outputs": [],
   "source": [
    "from qiskit.quantum_info import DensityMatrix, Statevector, Operator\n",
    "\n",
    "def getDensityMatrix(circuit):\n",
    "    return DensityMatrix(circuit).data"
   ]
  },
  {
   "cell_type": "markdown",
   "id": "527b0d3b",
   "metadata": {},
   "source": [
    "### - dagger and tensor "
   ]
  },
  {
   "cell_type": "code",
   "execution_count": 7,
   "id": "38c1c38f",
   "metadata": {},
   "outputs": [],
   "source": [
    "from functools import reduce\n",
    "\n",
    "Dag = lambda matrix: matrix.conj().T\n",
    "Kron = lambda *matrices: reduce(np.kron, matrices)"
   ]
  },
  {
   "cell_type": "markdown",
   "id": "33246453",
   "metadata": {},
   "source": [
    "### - pretty print"
   ]
  },
  {
   "cell_type": "code",
   "execution_count": 8,
   "id": "cfe27469",
   "metadata": {},
   "outputs": [],
   "source": [
    "def pm(matrix):\n",
    "    for row in range(len(matrix)):\n",
    "        for col in range (len(matrix[row])):\n",
    "            print(\"{:.3f}\".format(matrix[row][col]), end = \" \")\n",
    "        print()"
   ]
  },
  {
   "cell_type": "markdown",
   "id": "2470269e",
   "metadata": {},
   "source": [
    "## 5.1 set up starting state"
   ]
  },
  {
   "cell_type": "code",
   "execution_count": 10,
   "id": "b6c322de",
   "metadata": {},
   "outputs": [],
   "source": [
    "def initCircuit(n):\n",
    "    circuit = QuantumCircuit(n, n)\n",
    "    \n",
    "    for i in range(n):\n",
    "        circuit.h(i)    \n",
    "    circuit.barrier()\n",
    "    \n",
    "    return circuit"
   ]
  },
  {
   "cell_type": "code",
   "execution_count": 12,
   "id": "7ac85e30",
   "metadata": {},
   "outputs": [
    {
     "data": {
      "image/png": "[encoded data removed]",
      "text/plain": [
       "<Figure size 287.294x284.278 with 1 Axes>"
      ]
     },
     "execution_count": 12,
     "metadata": {},
     "output_type": "execute_result"
    }
   ],
   "source": [
    "inputCircuit_2q = initCircuit(2)\n",
    "inputCircuit_2q.draw(output='mpl')"
   ]
  },
  {
   "cell_type": "markdown",
   "id": "6a1bfdf0",
   "metadata": {},
   "source": [
    "## 5.2 Creating oracle for even"
   ]
  },
  {
   "cell_type": "code",
   "execution_count": 13,
   "id": "657a2c1c",
   "metadata": {},
   "outputs": [],
   "source": [
    "def createEvenOracle():\n",
    "    circuit = QuantumCircuit(2, 2)\n",
    "    \n",
    "    circuit.x(0)\n",
    "    circuit.x(1)\n",
    "    circuit.cz(0, 1)\n",
    "    circuit.x(1)\n",
    "    circuit.cz(0, 1)\n",
    "    circuit.x(0)\n",
    "    circuit.barrier()\n",
    "    \n",
    "    return circuit"
   ]
  },
  {
   "cell_type": "code",
   "execution_count": 14,
   "id": "9f731e2e",
   "metadata": {},
   "outputs": [
    {
     "data": {
      "image/png": "[encoded data removed]",
      "text/plain": [
       "<Figure size 621.739x284.278 with 1 Axes>"
      ]
     },
     "execution_count": 14,
     "metadata": {},
     "output_type": "execute_result"
    }
   ],
   "source": [
    "evenOracle = createEvenOracle()\n",
    "evenOracle.draw(output='mpl')"
   ]
  },
  {
   "cell_type": "markdown",
   "id": "1ef22e43",
   "metadata": {},
   "source": [
    "### - test Oracle"
   ]
  },
  {
   "cell_type": "code",
   "execution_count": 15,
   "id": "02c7512e",
   "metadata": {},
   "outputs": [
    {
     "data": {
      "text/plain": [
       "array([[-1.+0.j,  0.+0.j,  0.+0.j,  0.+0.j],\n",
       "       [ 0.+0.j,  1.+0.j,  0.+0.j,  0.+0.j],\n",
       "       [ 0.+0.j,  0.+0.j, -1.+0.j,  0.+0.j],\n",
       "       [ 0.+0.j,  0.+0.j,  0.+0.j,  1.+0.j]])"
      ]
     },
     "execution_count": 15,
     "metadata": {},
     "output_type": "execute_result"
    }
   ],
   "source": [
    "Operator(evenOracle).data # find 0 and 2"
   ]
  },
  {
   "cell_type": "markdown",
   "id": "7d5b6eb1",
   "metadata": {},
   "source": [
    "## 5.3 Diffuser"
   ]
  },
  {
   "cell_type": "code",
   "execution_count": 19,
   "id": "640262f5",
   "metadata": {},
   "outputs": [],
   "source": [
    "def createR_2q():\n",
    "    circuit = QuantumCircuit(2, 2)\n",
    "    \n",
    "    circuit.z(0)\n",
    "    circuit.z(1)\n",
    "    circuit.cz(0, 1)\n",
    "    \n",
    "    return circuit"
   ]
  },
  {
   "cell_type": "code",
   "execution_count": 20,
   "id": "80c1b82e",
   "metadata": {},
   "outputs": [],
   "source": [
    "def createDiffuser_2q():\n",
    "    circuit = QuantumCircuit(2, 2)\n",
    "    \n",
    "    circuit.h(0)\n",
    "    circuit.h(1)\n",
    "    circuit = circuit.compose(createR_2q())\n",
    "    circuit.h(0)\n",
    "    circuit.h(1)\n",
    "    circuit.barrier()\n",
    "    \n",
    "    return circuit"
   ]
  },
  {
   "cell_type": "code",
   "execution_count": 21,
   "id": "25dd3739",
   "metadata": {},
   "outputs": [
    {
     "data": {
      "image/png": "[encoded data removed]",
      "text/plain": [
       "<Figure size 538.128x284.278 with 1 Axes>"
      ]
     },
     "execution_count": 21,
     "metadata": {},
     "output_type": "execute_result"
    }
   ],
   "source": [
    "diffuserCircuit_2q = createDiffuser_2q()\n",
    "diffuserCircuit_2q.draw(output='mpl')"
   ]
  },
  {
   "cell_type": "markdown",
   "id": "e86301c0",
   "metadata": {},
   "source": [
    "## 5.4 Measurements"
   ]
  },
  {
   "cell_type": "code",
   "execution_count": 22,
   "id": "ce13ea52",
   "metadata": {},
   "outputs": [
    {
     "data": {
      "image/png": "[encoded data removed]",
      "text/plain": [
       "<Figure size 1207.02x284.278 with 1 Axes>"
      ]
     },
     "execution_count": 22,
     "metadata": {},
     "output_type": "execute_result"
    }
   ],
   "source": [
    "grover_even = initCircuit(2).compose(createEvenOracle()).compose(createDiffuser_2q())\n",
    "grover_even.draw(output='mpl')"
   ]
  },
  {
   "cell_type": "code",
   "execution_count": 23,
   "id": "20be54c0",
   "metadata": {},
   "outputs": [
    {
     "data": {
      "text/plain": [
       "<qiskit.circuit.instructionset.InstructionSet at 0x268490a3d60>"
      ]
     },
     "execution_count": 23,
     "metadata": {},
     "output_type": "execute_result"
    }
   ],
   "source": [
    "grover_even.measure([0, 1], [0, 1])"
   ]
  },
  {
   "cell_type": "code",
   "execution_count": 24,
   "id": "45ecf542",
   "metadata": {},
   "outputs": [
    {
     "name": "stdout",
     "output_type": "stream",
     "text": [
      "{'10': 2544, '11': 2509, '01': 2441, '00': 2506}\n"
     ]
    }
   ],
   "source": [
    "job = execute(grover_even, simulator, shots = 10000)\n",
    "results = job.result()\n",
    "counts = results.get_counts(grover_even)\n",
    "print(counts)"
   ]
  },
  {
   "cell_type": "code",
   "execution_count": 25,
   "id": "72837488",
   "metadata": {},
   "outputs": [
    {
     "data": {
      "image/png": "[encoded data removed]",
      "text/plain": [
       "<Figure size 500x500 with 1 Axes>"
      ]
     },
     "execution_count": 25,
     "metadata": {},
     "output_type": "execute_result"
    }
   ],
   "source": [
    "plot_histogram(counts, figsize=(5, 5), color=\"#66CCCC\", title=\"origin grover - find evens\")"
   ]
  },
  {
   "cell_type": "code",
   "execution_count": null,
   "id": "aa117a01",
   "metadata": {},
   "outputs": [],
   "source": []
  }
 ],
 "metadata": {
  "kernelspec": {
   "display_name": "Python 3 (ipykernel)",
   "language": "python",
   "name": "python3"
  },
  "language_info": {
   "codemirror_mode": {
    "name": "ipython",
    "version": 3
   },
   "file_extension": ".py",
   "mimetype": "text/x-python",
   "name": "python",
   "nbconvert_exporter": "python",
   "pygments_lexer": "ipython3",
   "version": "3.9.13"
  }
 },
 "nbformat": 4,
 "nbformat_minor": 5
}
